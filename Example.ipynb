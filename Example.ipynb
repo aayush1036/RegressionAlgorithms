{
  "nbformat": 4,
  "nbformat_minor": 0,
  "metadata": {
    "colab": {
      "name": "Untitled25.ipynb",
      "provenance": [],
      "authorship_tag": "ABX9TyMKz532DNRi68779RGuvkD6",
      "include_colab_link": true
    },
    "kernelspec": {
      "name": "python3",
      "display_name": "Python 3"
    },
    "language_info": {
      "name": "python"
    }
  },
  "cells": [
    {
      "cell_type": "markdown",
      "metadata": {
        "id": "view-in-github",
        "colab_type": "text"
      },
      "source": [
        "<a href=\"https://colab.research.google.com/github/aayush1036/RegressionAlgorithms/blob/master/Example.ipynb\" target=\"_parent\"><img src=\"https://colab.research.google.com/assets/colab-badge.svg\" alt=\"Open In Colab\"/></a>"
      ]
    },
    {
      "cell_type": "code",
      "metadata": {
        "colab": {
          "base_uri": "https://localhost:8080/"
        },
        "id": "9njH1x3DUO2K",
        "outputId": "823b035d-6ad2-4d7d-85d6-41be6a688dcb"
      },
      "source": [
        "!pip install GradientDescent"
      ],
      "execution_count": 1,
      "outputs": [
        {
          "output_type": "stream",
          "text": [
            "Collecting GradientDescent\n",
            "  Downloading GradientDescent-0.0.2-py3-none-any.whl (18 kB)\n",
            "Requirement already satisfied: numpy in /usr/local/lib/python3.7/dist-packages (from GradientDescent) (1.19.5)\n",
            "Requirement already satisfied: sklearn in /usr/local/lib/python3.7/dist-packages (from GradientDescent) (0.0)\n",
            "Requirement already satisfied: scipy in /usr/local/lib/python3.7/dist-packages (from GradientDescent) (1.4.1)\n",
            "Requirement already satisfied: pandas in /usr/local/lib/python3.7/dist-packages (from GradientDescent) (1.1.5)\n",
            "Requirement already satisfied: pytz>=2017.2 in /usr/local/lib/python3.7/dist-packages (from pandas->GradientDescent) (2018.9)\n",
            "Requirement already satisfied: python-dateutil>=2.7.3 in /usr/local/lib/python3.7/dist-packages (from pandas->GradientDescent) (2.8.2)\n",
            "Requirement already satisfied: six>=1.5 in /usr/local/lib/python3.7/dist-packages (from python-dateutil>=2.7.3->pandas->GradientDescent) (1.15.0)\n",
            "Requirement already satisfied: scikit-learn in /usr/local/lib/python3.7/dist-packages (from sklearn->GradientDescent) (0.22.2.post1)\n",
            "Requirement already satisfied: joblib>=0.11 in /usr/local/lib/python3.7/dist-packages (from scikit-learn->sklearn->GradientDescent) (1.0.1)\n",
            "Installing collected packages: GradientDescent\n",
            "Successfully installed GradientDescent-0.0.2\n"
          ],
          "name": "stdout"
        }
      ]
    },
    {
      "cell_type": "code",
      "metadata": {
        "id": "rJ3tOSSsUJaA"
      },
      "source": [
        "import numpy as np \n",
        "import pandas as pd \n",
        "import matplotlib.pyplot as plt \n",
        "from GradientDescent import Descent, Preprocess"
      ],
      "execution_count": 2,
      "outputs": []
    },
    {
      "cell_type": "markdown",
      "metadata": {
        "id": "Ox9HywxQUXny"
      },
      "source": [
        "# Linear Regression"
      ]
    },
    {
      "cell_type": "code",
      "metadata": {
        "colab": {
          "base_uri": "https://localhost:8080/",
          "height": 203
        },
        "id": "pMU1p7qSUWhR",
        "outputId": "93f78d22-c385-4d4c-a817-5b5742890a87"
      },
      "source": [
        "linear_data = pd.read_csv('https://raw.githubusercontent.com/aayush1036/data/main/linear_multivariate_gradient_descent.csv')\n",
        "linear_data.head()"
      ],
      "execution_count": 3,
      "outputs": [
        {
          "output_type": "execute_result",
          "data": {
            "text/html": [
              "<div>\n",
              "<style scoped>\n",
              "    .dataframe tbody tr th:only-of-type {\n",
              "        vertical-align: middle;\n",
              "    }\n",
              "\n",
              "    .dataframe tbody tr th {\n",
              "        vertical-align: top;\n",
              "    }\n",
              "\n",
              "    .dataframe thead th {\n",
              "        text-align: right;\n",
              "    }\n",
              "</style>\n",
              "<table border=\"1\" class=\"dataframe\">\n",
              "  <thead>\n",
              "    <tr style=\"text-align: right;\">\n",
              "      <th></th>\n",
              "      <th>Year</th>\n",
              "      <th>Month</th>\n",
              "      <th>MEI</th>\n",
              "      <th>CO2</th>\n",
              "      <th>CH4</th>\n",
              "      <th>N2O</th>\n",
              "      <th>CFC-11</th>\n",
              "      <th>CFC-12</th>\n",
              "      <th>TSI</th>\n",
              "      <th>Aerosols</th>\n",
              "      <th>Temp</th>\n",
              "    </tr>\n",
              "  </thead>\n",
              "  <tbody>\n",
              "    <tr>\n",
              "      <th>0</th>\n",
              "      <td>1983</td>\n",
              "      <td>5</td>\n",
              "      <td>2.556</td>\n",
              "      <td>345.96</td>\n",
              "      <td>1638.59</td>\n",
              "      <td>303.677</td>\n",
              "      <td>191.324</td>\n",
              "      <td>350.113</td>\n",
              "      <td>1366.1024</td>\n",
              "      <td>0.0863</td>\n",
              "      <td>0.109</td>\n",
              "    </tr>\n",
              "    <tr>\n",
              "      <th>1</th>\n",
              "      <td>1983</td>\n",
              "      <td>6</td>\n",
              "      <td>2.167</td>\n",
              "      <td>345.52</td>\n",
              "      <td>1633.71</td>\n",
              "      <td>303.746</td>\n",
              "      <td>192.057</td>\n",
              "      <td>351.848</td>\n",
              "      <td>1366.1208</td>\n",
              "      <td>0.0794</td>\n",
              "      <td>0.118</td>\n",
              "    </tr>\n",
              "    <tr>\n",
              "      <th>2</th>\n",
              "      <td>1983</td>\n",
              "      <td>7</td>\n",
              "      <td>1.741</td>\n",
              "      <td>344.15</td>\n",
              "      <td>1633.22</td>\n",
              "      <td>303.795</td>\n",
              "      <td>192.818</td>\n",
              "      <td>353.725</td>\n",
              "      <td>1366.2850</td>\n",
              "      <td>0.0731</td>\n",
              "      <td>0.137</td>\n",
              "    </tr>\n",
              "    <tr>\n",
              "      <th>3</th>\n",
              "      <td>1983</td>\n",
              "      <td>8</td>\n",
              "      <td>1.130</td>\n",
              "      <td>342.25</td>\n",
              "      <td>1631.35</td>\n",
              "      <td>303.839</td>\n",
              "      <td>193.602</td>\n",
              "      <td>355.633</td>\n",
              "      <td>1366.4202</td>\n",
              "      <td>0.0673</td>\n",
              "      <td>0.176</td>\n",
              "    </tr>\n",
              "    <tr>\n",
              "      <th>4</th>\n",
              "      <td>1983</td>\n",
              "      <td>9</td>\n",
              "      <td>0.428</td>\n",
              "      <td>340.17</td>\n",
              "      <td>1648.40</td>\n",
              "      <td>303.901</td>\n",
              "      <td>194.392</td>\n",
              "      <td>357.465</td>\n",
              "      <td>1366.2335</td>\n",
              "      <td>0.0619</td>\n",
              "      <td>0.149</td>\n",
              "    </tr>\n",
              "  </tbody>\n",
              "</table>\n",
              "</div>"
            ],
            "text/plain": [
              "   Year  Month    MEI     CO2  ...   CFC-12        TSI  Aerosols   Temp\n",
              "0  1983      5  2.556  345.96  ...  350.113  1366.1024    0.0863  0.109\n",
              "1  1983      6  2.167  345.52  ...  351.848  1366.1208    0.0794  0.118\n",
              "2  1983      7  1.741  344.15  ...  353.725  1366.2850    0.0731  0.137\n",
              "3  1983      8  1.130  342.25  ...  355.633  1366.4202    0.0673  0.176\n",
              "4  1983      9  0.428  340.17  ...  357.465  1366.2335    0.0619  0.149\n",
              "\n",
              "[5 rows x 11 columns]"
            ]
          },
          "metadata": {},
          "execution_count": 3
        }
      ]
    },
    {
      "cell_type": "code",
      "metadata": {
        "id": "6PPLs_0wUghx"
      },
      "source": [
        "linear_data.set_index(['Year'],inplace=True)"
      ],
      "execution_count": 4,
      "outputs": []
    },
    {
      "cell_type": "code",
      "metadata": {
        "colab": {
          "base_uri": "https://localhost:8080/",
          "height": 234
        },
        "id": "ZG8Qr7nRUpKg",
        "outputId": "fb366589-fdce-42fd-c4f9-0d6e9a61c6d9"
      },
      "source": [
        "linear_data.head()"
      ],
      "execution_count": 5,
      "outputs": [
        {
          "output_type": "execute_result",
          "data": {
            "text/html": [
              "<div>\n",
              "<style scoped>\n",
              "    .dataframe tbody tr th:only-of-type {\n",
              "        vertical-align: middle;\n",
              "    }\n",
              "\n",
              "    .dataframe tbody tr th {\n",
              "        vertical-align: top;\n",
              "    }\n",
              "\n",
              "    .dataframe thead th {\n",
              "        text-align: right;\n",
              "    }\n",
              "</style>\n",
              "<table border=\"1\" class=\"dataframe\">\n",
              "  <thead>\n",
              "    <tr style=\"text-align: right;\">\n",
              "      <th></th>\n",
              "      <th>Month</th>\n",
              "      <th>MEI</th>\n",
              "      <th>CO2</th>\n",
              "      <th>CH4</th>\n",
              "      <th>N2O</th>\n",
              "      <th>CFC-11</th>\n",
              "      <th>CFC-12</th>\n",
              "      <th>TSI</th>\n",
              "      <th>Aerosols</th>\n",
              "      <th>Temp</th>\n",
              "    </tr>\n",
              "    <tr>\n",
              "      <th>Year</th>\n",
              "      <th></th>\n",
              "      <th></th>\n",
              "      <th></th>\n",
              "      <th></th>\n",
              "      <th></th>\n",
              "      <th></th>\n",
              "      <th></th>\n",
              "      <th></th>\n",
              "      <th></th>\n",
              "      <th></th>\n",
              "    </tr>\n",
              "  </thead>\n",
              "  <tbody>\n",
              "    <tr>\n",
              "      <th>1983</th>\n",
              "      <td>5</td>\n",
              "      <td>2.556</td>\n",
              "      <td>345.96</td>\n",
              "      <td>1638.59</td>\n",
              "      <td>303.677</td>\n",
              "      <td>191.324</td>\n",
              "      <td>350.113</td>\n",
              "      <td>1366.1024</td>\n",
              "      <td>0.0863</td>\n",
              "      <td>0.109</td>\n",
              "    </tr>\n",
              "    <tr>\n",
              "      <th>1983</th>\n",
              "      <td>6</td>\n",
              "      <td>2.167</td>\n",
              "      <td>345.52</td>\n",
              "      <td>1633.71</td>\n",
              "      <td>303.746</td>\n",
              "      <td>192.057</td>\n",
              "      <td>351.848</td>\n",
              "      <td>1366.1208</td>\n",
              "      <td>0.0794</td>\n",
              "      <td>0.118</td>\n",
              "    </tr>\n",
              "    <tr>\n",
              "      <th>1983</th>\n",
              "      <td>7</td>\n",
              "      <td>1.741</td>\n",
              "      <td>344.15</td>\n",
              "      <td>1633.22</td>\n",
              "      <td>303.795</td>\n",
              "      <td>192.818</td>\n",
              "      <td>353.725</td>\n",
              "      <td>1366.2850</td>\n",
              "      <td>0.0731</td>\n",
              "      <td>0.137</td>\n",
              "    </tr>\n",
              "    <tr>\n",
              "      <th>1983</th>\n",
              "      <td>8</td>\n",
              "      <td>1.130</td>\n",
              "      <td>342.25</td>\n",
              "      <td>1631.35</td>\n",
              "      <td>303.839</td>\n",
              "      <td>193.602</td>\n",
              "      <td>355.633</td>\n",
              "      <td>1366.4202</td>\n",
              "      <td>0.0673</td>\n",
              "      <td>0.176</td>\n",
              "    </tr>\n",
              "    <tr>\n",
              "      <th>1983</th>\n",
              "      <td>9</td>\n",
              "      <td>0.428</td>\n",
              "      <td>340.17</td>\n",
              "      <td>1648.40</td>\n",
              "      <td>303.901</td>\n",
              "      <td>194.392</td>\n",
              "      <td>357.465</td>\n",
              "      <td>1366.2335</td>\n",
              "      <td>0.0619</td>\n",
              "      <td>0.149</td>\n",
              "    </tr>\n",
              "  </tbody>\n",
              "</table>\n",
              "</div>"
            ],
            "text/plain": [
              "      Month    MEI     CO2      CH4  ...   CFC-12        TSI  Aerosols   Temp\n",
              "Year                                 ...                                     \n",
              "1983      5  2.556  345.96  1638.59  ...  350.113  1366.1024    0.0863  0.109\n",
              "1983      6  2.167  345.52  1633.71  ...  351.848  1366.1208    0.0794  0.118\n",
              "1983      7  1.741  344.15  1633.22  ...  353.725  1366.2850    0.0731  0.137\n",
              "1983      8  1.130  342.25  1631.35  ...  355.633  1366.4202    0.0673  0.176\n",
              "1983      9  0.428  340.17  1648.40  ...  357.465  1366.2335    0.0619  0.149\n",
              "\n",
              "[5 rows x 10 columns]"
            ]
          },
          "metadata": {},
          "execution_count": 5
        }
      ]
    },
    {
      "cell_type": "code",
      "metadata": {
        "id": "LBzQk4ONUrGl"
      },
      "source": [
        "X_linear = linear_data.iloc[:,:-1]\n",
        "y_linear = linear_data.iloc[:,-1].values.reshape(-1,1)"
      ],
      "execution_count": 6,
      "outputs": []
    },
    {
      "cell_type": "code",
      "metadata": {
        "id": "bFwZXNUtV19e"
      },
      "source": [
        "X_scaler_linear = Preprocess(X_linear)\n",
        "X1_linear = X_scaler_linear.transform(add_ones=True)\n",
        "y_scaler_linear = Preprocess(y_linear)\n",
        "y_norm = y_scaler_linear.transform(add_ones=False)"
      ],
      "execution_count": 7,
      "outputs": []
    },
    {
      "cell_type": "code",
      "metadata": {
        "colab": {
          "base_uri": "https://localhost:8080/",
          "height": 283
        },
        "id": "AM61ssoOWL9g",
        "outputId": "1c112b84-95ef-47d6-90ed-2bacf8a7d5d0"
      },
      "source": [
        "gd_linear = Descent(X1_linear, y_norm,epoch=10000,alpha=0.001)\n",
        "pastCost,pastTheta, stopEpoch = gd_linear.fit()\n",
        "plt.plot(pastCost)"
      ],
      "execution_count": 8,
      "outputs": [
        {
          "output_type": "execute_result",
          "data": {
            "text/plain": [
              "[<matplotlib.lines.Line2D at 0x7f6e7fc679d0>]"
            ]
          },
          "metadata": {},
          "execution_count": 8
        },
        {
          "output_type": "display_data",
          "data": {
            "image/png": "[encoded data removed]",
            "text/plain": [
              "<Figure size 432x288 with 1 Axes>"
            ]
          },
          "metadata": {
            "needs_background": "light"
          }
        }
      ]
    },
    {
      "cell_type": "code",
      "metadata": {
        "colab": {
          "base_uri": "https://localhost:8080/"
        },
        "id": "yijy-YdKXwoD",
        "outputId": "64861a65-b31d-4719-b3f4-059067233ad3"
      },
      "source": [
        "print(gd_linear.summary)"
      ],
      "execution_count": 9,
      "outputs": [
        {
          "output_type": "stream",
          "text": [
            "                                    Values\n",
            "Skewess(residuals)   [0.09385026056425166]\n",
            "Kurtosis(residuals)   [1.1139100843755498]\n",
            "Jarque Bera Coef                   16.3757\n",
            "Jarque Bera p-value            0.000278013\n",
            "R Squared                         0.732656\n",
            "Adjusted R squared                0.723654\n",
            "MSE                               0.267344\n"
          ],
          "name": "stdout"
        }
      ]
    },
    {
      "cell_type": "code",
      "metadata": {
        "colab": {
          "base_uri": "https://localhost:8080/",
          "height": 203
        },
        "id": "0pJvj-ffWeqR",
        "outputId": "6e7483ea-4de7-4960-bb95-8cb868b35da3"
      },
      "source": [
        "data_logistic = pd.read_csv('https://raw.githubusercontent.com/aayush1036/data/main/logistic_gradient_descent.csv')\n",
        "data_logistic.head()"
      ],
      "execution_count": 10,
      "outputs": [
        {
          "output_type": "execute_result",
          "data": {
            "text/html": [
              "<div>\n",
              "<style scoped>\n",
              "    .dataframe tbody tr th:only-of-type {\n",
              "        vertical-align: middle;\n",
              "    }\n",
              "\n",
              "    .dataframe tbody tr th {\n",
              "        vertical-align: top;\n",
              "    }\n",
              "\n",
              "    .dataframe thead th {\n",
              "        text-align: right;\n",
              "    }\n",
              "</style>\n",
              "<table border=\"1\" class=\"dataframe\">\n",
              "  <thead>\n",
              "    <tr style=\"text-align: right;\">\n",
              "      <th></th>\n",
              "      <th>age</th>\n",
              "      <th>sex</th>\n",
              "      <th>cp</th>\n",
              "      <th>trestbps</th>\n",
              "      <th>chol</th>\n",
              "      <th>fbs</th>\n",
              "      <th>restecg</th>\n",
              "      <th>thalach</th>\n",
              "      <th>exang</th>\n",
              "      <th>oldpeak</th>\n",
              "      <th>slope</th>\n",
              "      <th>ca</th>\n",
              "      <th>thal</th>\n",
              "      <th>target</th>\n",
              "    </tr>\n",
              "  </thead>\n",
              "  <tbody>\n",
              "    <tr>\n",
              "      <th>0</th>\n",
              "      <td>63</td>\n",
              "      <td>1</td>\n",
              "      <td>3</td>\n",
              "      <td>145</td>\n",
              "      <td>233</td>\n",
              "      <td>1</td>\n",
              "      <td>0</td>\n",
              "      <td>150</td>\n",
              "      <td>0</td>\n",
              "      <td>2.3</td>\n",
              "      <td>0</td>\n",
              "      <td>0</td>\n",
              "      <td>1</td>\n",
              "      <td>1</td>\n",
              "    </tr>\n",
              "    <tr>\n",
              "      <th>1</th>\n",
              "      <td>37</td>\n",
              "      <td>1</td>\n",
              "      <td>2</td>\n",
              "      <td>130</td>\n",
              "      <td>250</td>\n",
              "      <td>0</td>\n",
              "      <td>1</td>\n",
              "      <td>187</td>\n",
              "      <td>0</td>\n",
              "      <td>3.5</td>\n",
              "      <td>0</td>\n",
              "      <td>0</td>\n",
              "      <td>2</td>\n",
              "      <td>1</td>\n",
              "    </tr>\n",
              "    <tr>\n",
              "      <th>2</th>\n",
              "      <td>41</td>\n",
              "      <td>0</td>\n",
              "      <td>1</td>\n",
              "      <td>130</td>\n",
              "      <td>204</td>\n",
              "      <td>0</td>\n",
              "      <td>0</td>\n",
              "      <td>172</td>\n",
              "      <td>0</td>\n",
              "      <td>1.4</td>\n",
              "      <td>2</td>\n",
              "      <td>0</td>\n",
              "      <td>2</td>\n",
              "      <td>1</td>\n",
              "    </tr>\n",
              "    <tr>\n",
              "      <th>3</th>\n",
              "      <td>56</td>\n",
              "      <td>1</td>\n",
              "      <td>1</td>\n",
              "      <td>120</td>\n",
              "      <td>236</td>\n",
              "      <td>0</td>\n",
              "      <td>1</td>\n",
              "      <td>178</td>\n",
              "      <td>0</td>\n",
              "      <td>0.8</td>\n",
              "      <td>2</td>\n",
              "      <td>0</td>\n",
              "      <td>2</td>\n",
              "      <td>1</td>\n",
              "    </tr>\n",
              "    <tr>\n",
              "      <th>4</th>\n",
              "      <td>57</td>\n",
              "      <td>0</td>\n",
              "      <td>0</td>\n",
              "      <td>120</td>\n",
              "      <td>354</td>\n",
              "      <td>0</td>\n",
              "      <td>1</td>\n",
              "      <td>163</td>\n",
              "      <td>1</td>\n",
              "      <td>0.6</td>\n",
              "      <td>2</td>\n",
              "      <td>0</td>\n",
              "      <td>2</td>\n",
              "      <td>1</td>\n",
              "    </tr>\n",
              "  </tbody>\n",
              "</table>\n",
              "</div>"
            ],
            "text/plain": [
              "   age  sex  cp  trestbps  chol  fbs  ...  exang  oldpeak  slope  ca  thal  target\n",
              "0   63    1   3       145   233    1  ...      0      2.3      0   0     1       1\n",
              "1   37    1   2       130   250    0  ...      0      3.5      0   0     2       1\n",
              "2   41    0   1       130   204    0  ...      0      1.4      2   0     2       1\n",
              "3   56    1   1       120   236    0  ...      0      0.8      2   0     2       1\n",
              "4   57    0   0       120   354    0  ...      1      0.6      2   0     2       1\n",
              "\n",
              "[5 rows x 14 columns]"
            ]
          },
          "metadata": {},
          "execution_count": 10
        }
      ]
    },
    {
      "cell_type": "code",
      "metadata": {
        "id": "2346Qx01W9ZI"
      },
      "source": [
        "X_logistic = data_logistic.iloc[:,:-1]\n",
        "y_logistic = data_logistic.iloc[:,-1].values.reshape(-1,1)"
      ],
      "execution_count": 11,
      "outputs": []
    },
    {
      "cell_type": "code",
      "metadata": {
        "id": "4IRYLX5-XMHc"
      },
      "source": [
        "X_scaler_logistic = Preprocess(X_logistic)\n",
        "X1_logistic = X_scaler_logistic.transform()"
      ],
      "execution_count": 12,
      "outputs": []
    },
    {
      "cell_type": "code",
      "metadata": {
        "colab": {
          "base_uri": "https://localhost:8080/",
          "height": 282
        },
        "id": "hTQNOiS4XY4F",
        "outputId": "bad19349-528e-47bd-c3c0-ab4b5fcc5827"
      },
      "source": [
        "gd_logistic = Descent(X1_logistic, y_logistic,epoch=10000,method='logistic',alpha=0.01)\n",
        "pastCost,pastTheta, stopEpoch = gd_logistic.fit()\n",
        "plt.plot(pastCost)"
      ],
      "execution_count": 16,
      "outputs": [
        {
          "output_type": "execute_result",
          "data": {
            "text/plain": [
              "[<matplotlib.lines.Line2D at 0x7f6e7f897890>]"
            ]
          },
          "metadata": {},
          "execution_count": 16
        },
        {
          "output_type": "display_data",
          "data": {
            "image/png": "[encoded data removed]",
            "text/plain": [
              "<Figure size 432x288 with 1 Axes>"
            ]
          },
          "metadata": {
            "needs_background": "light"
          }
        }
      ]
    },
    {
      "cell_type": "code",
      "metadata": {
        "colab": {
          "base_uri": "https://localhost:8080/"
        },
        "id": "jT5TW2KCXhAM",
        "outputId": "d180e6d2-06b1-481b-802e-7530fbd91ba5"
      },
      "source": [
        "print(gd_logistic.summary)"
      ],
      "execution_count": 17,
      "outputs": [
        {
          "output_type": "stream",
          "text": [
            "                                    Values\n",
            "Skewess(residuals)   [-0.4854510291391381]\n",
            "Kurtosis(residuals)   [3.7664566445142045]\n",
            "Jarque Bera Coef                   191.002\n",
            "Jarque Bera p-value                      0\n",
            "Precision                         0.837989\n",
            "Recall                            0.909091\n",
            "F1-Score                          0.872093\n"
          ],
          "name": "stdout"
        }
      ]
    },
    {
      "cell_type": "code",
      "metadata": {
        "id": "s3x9qZ4sbHy-"
      },
      "source": [
        ""
      ],
      "execution_count": null,
      "outputs": []
    }
  ]
}